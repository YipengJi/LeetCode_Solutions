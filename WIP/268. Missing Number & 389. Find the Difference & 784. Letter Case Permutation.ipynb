{
 "cells": [
  {
   "cell_type": "code",
   "execution_count": 4,
   "metadata": {},
   "outputs": [],
   "source": [
    "def missingNumber(nums):\n",
    "    \"\"\"\n",
    "    :type nums: List[int]\n",
    "    :rtype: int\n",
    "    \"\"\"\n",
    "    \n",
    "    le = len(nums)\n",
    "    summ = 0\n",
    "    for i in range(0,le+1):\n",
    "        summ+=i\n",
    "    \n",
    "    return summ-sum(nums)"
   ]
  },
  {
   "cell_type": "code",
   "execution_count": 6,
   "metadata": {},
   "outputs": [
    {
     "data": {
      "text/plain": [
       "8"
      ]
     },
     "execution_count": 6,
     "metadata": {},
     "output_type": "execute_result"
    }
   ],
   "source": [
    "missingNumber([9,6,4,2,3,5,7,0,1])"
   ]
  },
  {
   "cell_type": "code",
   "execution_count": 36,
   "metadata": {},
   "outputs": [],
   "source": [
    "def findTheDifference(s, t):\n",
    "    \"\"\"\n",
    "    :type s: str\n",
    "    :type t: str\n",
    "    :rtype: str\n",
    "    \"\"\"\n",
    "    D={}\n",
    "    for i in set(t):\n",
    "        D[i] = 0\n",
    "    for i in t:\n",
    "        D[i]+=1\n",
    "    for i in s:\n",
    "        D[i]-=1\n",
    "        \n",
    "    for k,v in D.items():\n",
    "        if v>0:\n",
    "            return k\n",
    "    "
   ]
  },
  {
   "cell_type": "code",
   "execution_count": 37,
   "metadata": {},
   "outputs": [
    {
     "name": "stdout",
     "output_type": "stream",
     "text": [
      "{'a': 1, 'b': 0}\n",
      "b\n"
     ]
    },
    {
     "data": {
      "text/plain": [
       "'a'"
      ]
     },
     "execution_count": 37,
     "metadata": {},
     "output_type": "execute_result"
    }
   ],
   "source": [
    "findTheDifference(\"ab\",\"aab\")"
   ]
  },
  {
   "cell_type": "code",
   "execution_count": 119,
   "metadata": {},
   "outputs": [],
   "source": [
    "def letterCasePermutation(S):\n",
    "    \"\"\"\n",
    "    :type S: str\n",
    "    :rtype: List[str]\n",
    "    \"\"\"\n",
    "    D = []\n",
    "    res = []\n",
    "    \n",
    "    for s in S:\n",
    "        if s.islower():\n",
    "            D.append([s,s.upper()])\n",
    "        else:\n",
    "            D.append([s.lower(),s])\n",
    "    \n",
    "    for i in range (0,(2**len(S))):\n",
    "        order = list(bin(i)[2:].zfill(len(S)))\n",
    "        print(order)\n",
    "        re = \"\"\n",
    "        for d, od in zip(D,order):\n",
    "            re+=d[int(od)]\n",
    "        res.append(re)\n",
    "        \n",
    "    return set(res)"
   ]
  },
  {
   "cell_type": "code",
   "execution_count": 122,
   "metadata": {},
   "outputs": [
    {
     "name": "stdout",
     "output_type": "stream",
     "text": [
      "['0', '0', '0', '0']\n",
      "['0', '0', '0', '1']\n",
      "['0', '0', '1', '0']\n",
      "['0', '0', '1', '1']\n",
      "['0', '1', '0', '0']\n",
      "['0', '1', '0', '1']\n",
      "['0', '1', '1', '0']\n",
      "['0', '1', '1', '1']\n",
      "['1', '0', '0', '0']\n",
      "['1', '0', '0', '1']\n",
      "['1', '0', '1', '0']\n",
      "['1', '0', '1', '1']\n",
      "['1', '1', '0', '0']\n",
      "['1', '1', '0', '1']\n",
      "['1', '1', '1', '0']\n",
      "['1', '1', '1', '1']\n"
     ]
    },
    {
     "data": {
      "text/plain": [
       "{'A1B1', 'A1b1', 'a1B1', 'a1b1'}"
      ]
     },
     "execution_count": 122,
     "metadata": {},
     "output_type": "execute_result"
    }
   ],
   "source": [
    "letterCasePermutation(\"a1b1\")"
   ]
  },
  {
   "cell_type": "code",
   "execution_count": null,
   "metadata": {},
   "outputs": [],
   "source": [
    "### try recursive\n",
    "def letterCasePermutation(S):\n",
    "    "
   ]
  },
  {
   "cell_type": "code",
   "execution_count": null,
   "metadata": {},
   "outputs": [],
   "source": []
  }
 ],
 "metadata": {
  "kernelspec": {
   "display_name": "Python 3",
   "language": "python",
   "name": "python3"
  },
  "language_info": {
   "codemirror_mode": {
    "name": "ipython",
    "version": 3
   },
   "file_extension": ".py",
   "mimetype": "text/x-python",
   "name": "python",
   "nbconvert_exporter": "python",
   "pygments_lexer": "ipython3",
   "version": "3.7.3"
  }
 },
 "nbformat": 4,
 "nbformat_minor": 2
}
