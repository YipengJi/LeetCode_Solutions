{
 "cells": [
  {
   "cell_type": "code",
   "execution_count": null,
   "metadata": {},
   "outputs": [],
   "source": []
  },
  {
   "cell_type": "code",
   "execution_count": 14,
   "metadata": {},
   "outputs": [
    {
     "data": {
      "text/plain": [
       "{'01': 1,\n",
       " '02': 1,\n",
       " '10': 1,\n",
       " '11': 1,\n",
       " '14': 1,\n",
       " '20': 1,\n",
       " '21': 1,\n",
       " '23': 1,\n",
       " '24': 1}"
      ]
     },
     "execution_count": 14,
     "metadata": {},
     "output_type": "execute_result"
    }
   ],
   "source": [
    "def riverSizes_test(matrix):\n",
    "    # Write your code here.\n",
    "    result=[]\n",
    "    for r in range(len(matrix)):\n",
    "        #first_river_in_row = matrix[r].index(1)\n",
    "        #print(first_river_in_row)\n",
    "        for c in range(len(matrix[r])):\n",
    "            count=0\n",
    "            if (matrix[r][c]==1):\n",
    "                if (c==len(matrix[r])-1):\n",
    "                    matrix[r][c]=0\n",
    "                    count+=1       \n",
    "\n",
    "matrix = [[0,1,1,0,0],\n",
    "          [1,1,0,0,1],\n",
    "          [1,1,0,1,1]] #-> [3,6]\n",
    "\n",
    "matrix1 = [[1,0,0,1,0],\n",
    "           [1,0,1,0,0],\n",
    "           [0,0,1,0,1],\n",
    "           [1,0,1,0,1],\n",
    "           [1,0,1,1,0]] # -> [1,2,2,2,5]\n",
    "#print(len(matrix))\n",
    "#print(matrix[0][0])\n",
    "#print(matrix[:])\n",
    "\n",
    "def riverSizes(matrix):\n",
    "    ht = {}\n",
    "    for r in range(len(matrix)):\n",
    "        for c in range(len(matrix[r])):\n",
    "            if matrix[r][c] == 1:\n",
    "                ht[str(r)+str(c)]=1\n",
    "                \n",
    "    return ht\n",
    "    \n",
    "    \n",
    "riverSizes(matrix)\n"
   ]
  },
  {
   "cell_type": "code",
   "execution_count": 11,
   "metadata": {},
   "outputs": [
    {
     "data": {
      "text/plain": [
       "[[11, 20], [1, 10]]"
      ]
     },
     "execution_count": 11,
     "metadata": {},
     "output_type": "execute_result"
    }
   ],
   "source": [
    "def merge_ranges(input_range_list):\n",
    "    if len(input_range_list)==1: return input_range_list\n",
    "    r=0\n",
    "    while (r <len(input_range_list)-1):\n",
    "        if int(input_range_list[r][1])<int(input_range_list[r+1][0]):\n",
    "            r+=1\n",
    "            continue\n",
    "        elif int(input_range_list[r][1])>int(input_range_list[r+1][0]):\n",
    "            if int(input_range_list[r][1])>=int(input_range_list[r+1][1]):\n",
    "                input_range_list.remove(input_range_list[r+1])\n",
    "                continue\n",
    "            else:\n",
    "                new = [input_range_list[r][0],input_range_list[r+1][1]]\n",
    "                input_range_list.remove(input_range_list[r])\n",
    "                input_range_list.remove(input_range_list[r])\n",
    "                input_range_list.insert(0,new)\n",
    "                continue\n",
    "        else: \n",
    "            new = [input_range_list[r][0],input_range_list[r+1][1]]\n",
    "            input_range_list.remove(input_range_list[r])\n",
    "            input_range_list.remove(input_range_list[r])\n",
    "            input_range_list.insert(0,new)\n",
    "            continue\n",
    "\n",
    "    return input_range_list\n",
    "\n",
    "merge_ranges([[1,5], [5,10], [11,15] ,[15,20]])"
   ]
  },
  {
   "cell_type": "code",
   "execution_count": null,
   "metadata": {},
   "outputs": [],
   "source": []
  }
 ],
 "metadata": {
  "kernelspec": {
   "display_name": "Python 3",
   "language": "python",
   "name": "python3"
  },
  "language_info": {
   "codemirror_mode": {
    "name": "ipython",
    "version": 3
   },
   "file_extension": ".py",
   "mimetype": "text/x-python",
   "name": "python",
   "nbconvert_exporter": "python",
   "pygments_lexer": "ipython3",
   "version": "3.6.4"
  }
 },
 "nbformat": 4,
 "nbformat_minor": 2
}
