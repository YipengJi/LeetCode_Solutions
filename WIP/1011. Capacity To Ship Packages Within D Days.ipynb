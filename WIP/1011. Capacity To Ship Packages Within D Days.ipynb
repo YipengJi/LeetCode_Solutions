{
 "cells": [
  {
   "cell_type": "code",
   "execution_count": 11,
   "metadata": {},
   "outputs": [
    {
     "name": "stdout",
     "output_type": "stream",
     "text": [
      "{0: 0, 1: 0, 2: 0, 3: 0, 4: 0}\n",
      "{0: 10, 1: 10, 2: 0, 3: 0, 4: 0}\n",
      "[1, 2, 3, 4, 5, 6, 7, 8, 9]\n",
      "{0: 10, 1: 10, 2: 0, 3: 0, 4: 0}\n",
      "[1, 2, 3, 4, 5, 6, 7, 8]\n",
      "{0: 10, 1: 10, 2: 8, 3: 0, 4: 0}\n",
      "[1, 2, 3, 4, 5, 6, 7]\n",
      "{0: 10, 1: 10, 2: 8, 3: 0, 4: 0}\n",
      "[1, 2, 3, 4, 5, 6]\n",
      "{0: 10, 1: 10, 2: 8, 3: 6, 4: 0}\n",
      "[1, 2, 3, 4, 5]\n",
      "{0: 10, 1: 10, 2: 8, 3: 6, 4: 0}\n",
      "[1, 2, 3, 4]\n",
      "{0: 10, 1: 10, 2: 8, 3: 6, 4: 4}\n",
      "[1, 2, 3]\n",
      "{0: 10, 1: 10, 2: 8, 3: 6, 4: 7}\n",
      "[1, 2]\n",
      "{0: 10, 1: 10, 2: 8, 3: 6, 4: 9}\n",
      "[1]\n",
      "{0: 10, 1: 10, 2: 8, 3: 6, 4: 10}\n",
      "[]\n"
     ]
    },
    {
     "data": {
      "text/plain": [
       "10"
      ]
     },
     "execution_count": 11,
     "metadata": {},
     "output_type": "execute_result"
    }
   ],
   "source": [
    "def shipWithinDays(weights, D: int) -> int:\n",
    "    ht={d:0 for d in range(0,D)}\n",
    "    print(ht)\n",
    "    init = max(weights)\n",
    "    cap = init\n",
    "    ht[0]=init\n",
    "    i=1\n",
    "    while weights:\n",
    "        init = max(weights)\n",
    "        if ht[i]+init <= cap:\n",
    "            ht[i]+=init\n",
    "        else: i+=1\n",
    "        weights.remove(init)\n",
    "        print(ht)\n",
    "        print(weights)\n",
    "    return max(ht.values())\n",
    "shipWithinDays([1,2,3,4,5,6,7,8,9,10],5)  "
   ]
  },
  {
   "cell_type": "code",
   "execution_count": null,
   "metadata": {},
   "outputs": [],
   "source": []
  }
 ],
 "metadata": {
  "kernelspec": {
   "display_name": "Python 3",
   "language": "python",
   "name": "python3"
  },
  "language_info": {
   "codemirror_mode": {
    "name": "ipython",
    "version": 3
   },
   "file_extension": ".py",
   "mimetype": "text/x-python",
   "name": "python",
   "nbconvert_exporter": "python",
   "pygments_lexer": "ipython3",
   "version": "3.6.4"
  }
 },
 "nbformat": 4,
 "nbformat_minor": 2
}
