{
 "cells": [
  {
   "cell_type": "code",
   "execution_count": 33,
   "metadata": {},
   "outputs": [
    {
     "name": "stdout",
     "output_type": "stream",
     "text": [
      "True\n"
     ]
    }
   ],
   "source": [
    "def isUgly(num):\n",
    "    if num<=0: return False\n",
    "    elif num==1: return True\n",
    "    else:\n",
    "        while num>1:\n",
    "            if num%2==0: num/=2\n",
    "            elif num%3==0: num/=3\n",
    "            elif num%5==0: num/=5\n",
    "            else: return False\n",
    "        if int(num)==1: # or int(num)==2 or int(num)==3 or int(num)==5:\n",
    "            return True\n",
    "        else: return False\n",
    "        \n",
    "def isUgly_discuss(num):\n",
    "    if num<=0: return False\n",
    "    prime=[2,3,5]\n",
    "    i=0\n",
    "    while i<3:\n",
    "        if num%prime[i]==0:\n",
    "            num/=prime[i]\n",
    "        else: i+=1\n",
    "    return num==1\n",
    "        \n",
    "print(isUgly_discuss(1))"
   ]
  },
  {
   "cell_type": "code",
   "execution_count": 62,
   "metadata": {},
   "outputs": [
    {
     "name": "stdout",
     "output_type": "stream",
     "text": [
      "[]\n",
      "[]\n",
      "[]\n",
      "[]\n",
      "[]\n",
      "[]\n",
      "[]\n",
      "[7]\n",
      "[7]\n",
      "[7]\n",
      "[7]\n",
      "[7, 11]\n",
      "12\n"
     ]
    }
   ],
   "source": [
    "# def nthUglyNumber(n: int) -> int:\n",
    "#     count=1\n",
    "#     cur=1\n",
    "#     while count<n+1:\n",
    "#         if isUgly(cur): \n",
    "#             count+=1\n",
    "#             cur+=1\n",
    "#         else: cur+=1\n",
    "#     return cur-1\n",
    "\n",
    "def nthUglyNumber(n):\n",
    "    num = [False]*n*n\n",
    "    ind = 1\n",
    "    nonugly=[]\n",
    "    while sum(num)<n:\n",
    "        print(nonugly)\n",
    "        i=0\n",
    "        while i<len(nonugly):\n",
    "            if ind%nonugly[i]==0:\n",
    "                ind+=1\n",
    "            else: i+=1\n",
    "        if isUgly(ind):\n",
    "            num[ind]=True\n",
    "            ind+=1\n",
    "        else: \n",
    "            nonugly.append(ind)\n",
    "            ind+=1\n",
    "    return ind-1\n",
    "\n",
    "def isUgly(num):\n",
    "    if num<=0: return False\n",
    "    prime=[2,3,5]\n",
    "    i=0\n",
    "    while i<3:\n",
    "        if num%prime[i]==0: num/=prime[i]\n",
    "        else: i+=1\n",
    "    return num==1\n",
    "\n",
    "print(nthUglyNumber(10))"
   ]
  },
  {
   "cell_type": "code",
   "execution_count": null,
   "metadata": {},
   "outputs": [],
   "source": []
  }
 ],
 "metadata": {
  "kernelspec": {
   "display_name": "Python 3",
   "language": "python",
   "name": "python3"
  },
  "language_info": {
   "codemirror_mode": {
    "name": "ipython",
    "version": 3
   },
   "file_extension": ".py",
   "mimetype": "text/x-python",
   "name": "python",
   "nbconvert_exporter": "python",
   "pygments_lexer": "ipython3",
   "version": "3.6.4"
  }
 },
 "nbformat": 4,
 "nbformat_minor": 2
}
