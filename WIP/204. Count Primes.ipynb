{
 "cells": [
  {
   "cell_type": "code",
   "execution_count": 30,
   "metadata": {},
   "outputs": [
    {
     "name": "stdout",
     "output_type": "stream",
     "text": [
      "1\n"
     ]
    }
   ],
   "source": [
    "### Time Limit Exceeded\n",
    "# class Solution:\n",
    "#     def countPrimes(self, n: int) -> int:\n",
    "#         counter=0\n",
    "#         for i in range(2,n):\n",
    "#             counter+=self.isPrime(i)\n",
    "#         return counter\n",
    "    \n",
    "#     def isPrime(self,i):\n",
    "#         for p in range(2,i):\n",
    "#             if i%p==0: return 0\n",
    "#         return 1\n",
    " \n",
    "import math\n",
    "class Solution:\n",
    "#     def countPrimes(self, n: int) -> int:\n",
    "#         counter, arr = 0, [True]*n\n",
    "#         for i in range(2,n):\n",
    "#             if arr[i]==True:\n",
    "#                 counter +=1\n",
    "#                 for j in range(i*i,n,i):\n",
    "#                     arr[j]=False\n",
    "#         return counter\n",
    "\n",
    "#     def countPrimes(self,n):\n",
    "#         k = int(math.sqrt(n))+1\n",
    "#         primes=[True]*n\n",
    "#         primes[0]=primes[1]=False\n",
    "        \n",
    "#         for i in range(2,k):\n",
    "#             if primes[i]:\n",
    "#                 for j in range(i*2,n,i):\n",
    "#                     primes[j]=False\n",
    "#         return sum(primes)\n",
    "\n",
    "    def countPrimes(self,n):\n",
    "        if n<=2: return 0\n",
    "        counter, primes= 0, [True]*n\n",
    "        primes[0]=primes[1]=False\n",
    "        \n",
    "        while counter*counter<=n:\n",
    "            if primes[counter]:\n",
    "                for i in range(counter*2,n,counter):\n",
    "                    primes[i]=False\n",
    "            counter+=1\n",
    "        return sum(primes)\n",
    "    \n",
    "soln = Solution()\n",
    "print(soln.countPrimes(3))\n",
    "    "
   ]
  },
  {
   "cell_type": "code",
   "execution_count": null,
   "metadata": {},
   "outputs": [],
   "source": []
  }
 ],
 "metadata": {
  "kernelspec": {
   "display_name": "Python 3",
   "language": "python",
   "name": "python3"
  },
  "language_info": {
   "codemirror_mode": {
    "name": "ipython",
    "version": 3
   },
   "file_extension": ".py",
   "mimetype": "text/x-python",
   "name": "python",
   "nbconvert_exporter": "python",
   "pygments_lexer": "ipython3",
   "version": "3.6.4"
  }
 },
 "nbformat": 4,
 "nbformat_minor": 2
}
