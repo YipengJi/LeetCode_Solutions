{
 "cells": [
  {
   "cell_type": "code",
   "execution_count": 7,
   "metadata": {},
   "outputs": [],
   "source": [
    "def countPrimeSetBits(L, R):\n",
    "    \"\"\"\n",
    "    :type L: int\n",
    "    :type R: int\n",
    "    :rtype: int\n",
    "    \"\"\"\n",
    "    cnt = 0\n",
    "    \n",
    "    for n in range(L,R+1):\n",
    "        bits = bin(n).count(\"1\")\n",
    "        if isPrime(bits):\n",
    "            cnt+=1\n",
    "    return cnt\n",
    "\n",
    "def isPrime(n):\n",
    "    \n",
    "    if n==0 or n==1: return False\n",
    "    if n==2 or n==3: return True\n",
    "    \n",
    "    for i in range(2,int(n**0.5)+1):\n",
    "        if n%i==0:\n",
    "            return False\n",
    "    return True\n",
    "        "
   ]
  },
  {
   "cell_type": "code",
   "execution_count": 9,
   "metadata": {},
   "outputs": [
    {
     "data": {
      "text/plain": [
       "5"
      ]
     },
     "execution_count": 9,
     "metadata": {},
     "output_type": "execute_result"
    }
   ],
   "source": [
    "countPrimeSetBits(10,15)"
   ]
  },
  {
   "cell_type": "code",
   "execution_count": 34,
   "metadata": {},
   "outputs": [],
   "source": [
    "def findComplement(num):\n",
    "    \"\"\"\n",
    "    :type num: int\n",
    "    :rtype: int\n",
    "    \"\"\"\n",
    "    binn = bin(num)[2:]\n",
    "    comp = \"\"\n",
    "    for i in binn:\n",
    "        i = \"0\" if i==\"1\" else \"1\"\n",
    "        comp+=i\n",
    "    return int(comp,2)"
   ]
  },
  {
   "cell_type": "code",
   "execution_count": 36,
   "metadata": {},
   "outputs": [
    {
     "data": {
      "text/plain": [
       "0"
      ]
     },
     "execution_count": 36,
     "metadata": {},
     "output_type": "execute_result"
    }
   ],
   "source": [
    "findComplement(1)"
   ]
  },
  {
   "cell_type": "code",
   "execution_count": 42,
   "metadata": {},
   "outputs": [],
   "source": [
    "def countBits(num):\n",
    "    \"\"\"\n",
    "    :type num: int\n",
    "    :rtype: List[int]\n",
    "    \"\"\"\n",
    "    re = [0]*(num+1)\n",
    "    mask = 1\n",
    "    for j in range (0,len(bin(num))-1):\n",
    "        for i in range (0,num+1):\n",
    "            if i&mask:\n",
    "                re[i]+=1\n",
    "        mask<<=1\n",
    "    return re"
   ]
  },
  {
   "cell_type": "code",
   "execution_count": 45,
   "metadata": {},
   "outputs": [
    {
     "data": {
      "text/plain": [
       "[0, 1, 1, 2, 1, 2]"
      ]
     },
     "execution_count": 45,
     "metadata": {},
     "output_type": "execute_result"
    }
   ],
   "source": [
    "countBits(5)"
   ]
  },
  {
   "cell_type": "code",
   "execution_count": 44,
   "metadata": {},
   "outputs": [],
   "source": [
    "def countBits(num):\n",
    "    re=[]\n",
    "    for i in range(0,num+1):\n",
    "        re.append(bin(i).count(\"1\"))\n",
    "    return re"
   ]
  },
  {
   "cell_type": "code",
   "execution_count": null,
   "metadata": {},
   "outputs": [],
   "source": [
    "### countBits DP ###"
   ]
  }
 ],
 "metadata": {
  "kernelspec": {
   "display_name": "Python 3",
   "language": "python",
   "name": "python3"
  },
  "language_info": {
   "codemirror_mode": {
    "name": "ipython",
    "version": 3
   },
   "file_extension": ".py",
   "mimetype": "text/x-python",
   "name": "python",
   "nbconvert_exporter": "python",
   "pygments_lexer": "ipython3",
   "version": "3.7.3"
  }
 },
 "nbformat": 4,
 "nbformat_minor": 2
}
