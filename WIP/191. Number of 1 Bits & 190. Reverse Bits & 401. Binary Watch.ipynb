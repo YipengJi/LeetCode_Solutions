{
 "cells": [
  {
   "cell_type": "code",
   "execution_count": 16,
   "metadata": {},
   "outputs": [],
   "source": [
    "def hammingWeight(n):\n",
    "    \"\"\"\n",
    "    :type n: int\n",
    "    :rtype: int\n",
    "    \"\"\"\n",
    "    t = 0\n",
    "    if n==0: return t\n",
    "    for i in range (0,32):\n",
    "        if (n&1==1):\n",
    "            t+=1\n",
    "        n>>=1\n",
    "    return t"
   ]
  },
  {
   "cell_type": "code",
   "execution_count": 17,
   "metadata": {},
   "outputs": [
    {
     "data": {
      "text/plain": [
       "3"
      ]
     },
     "execution_count": 17,
     "metadata": {},
     "output_type": "execute_result"
    }
   ],
   "source": [
    "hammingWeight(0b00000000000000000000000000001011)"
   ]
  },
  {
   "cell_type": "code",
   "execution_count": 28,
   "metadata": {},
   "outputs": [],
   "source": [
    "def reverseBits(n):\n",
    "    m = str(bin(n))\n",
    "    print(m)\n",
    "    return m[::-1]"
   ]
  },
  {
   "cell_type": "code",
   "execution_count": 44,
   "metadata": {},
   "outputs": [],
   "source": [
    "def reverseBits(n):\n",
    "    return int('{:032b}'.format(n)[::-1], 2)"
   ]
  },
  {
   "cell_type": "code",
   "execution_count": 45,
   "metadata": {},
   "outputs": [
    {
     "data": {
      "text/plain": [
       "964176192"
      ]
     },
     "execution_count": 45,
     "metadata": {},
     "output_type": "execute_result"
    }
   ],
   "source": [
    "reverseBits(0b00000010100101000001111010011100)"
   ]
  },
  {
   "cell_type": "code",
   "execution_count": 81,
   "metadata": {},
   "outputs": [],
   "source": [
    "def readBinaryWatch(num):\n",
    "    \"\"\"\n",
    "    :type num: int\n",
    "    :rtype: List[str]\n",
    "    \"\"\"\n",
    "#     h0 = [0]\n",
    "#     h1 = [1,2,4,8]\n",
    "#     h2 = [3,5,6,9,10,12]\n",
    "#     h3 = [7,11]\n",
    "#     H = {0:h0, 1:h1, 2:h2, 3:h3}\n",
    "    \n",
    "    H = createDict(12,4)\n",
    "    print(H)\n",
    "    \n",
    "    M = createDict(60,6)\n",
    "    print(M)\n",
    "    \n",
    "    results = []\n",
    "    \n",
    "    for i in range (0,4):\n",
    "        h = H[i]\n",
    "        rem = num-i\n",
    "        if rem<0: break\n",
    "        if rem>6: continue\n",
    "        for hour in h:\n",
    "            hr = str(hour)+\":\"\n",
    "            m = M[rem]\n",
    "            for minute in m:\n",
    "                re = hr+\"{:02d}\".format(minute)\n",
    "                results.append(re)\n",
    "    return results\n",
    "            \n",
    "def createDict(limit,digits):\n",
    "    D = {}\n",
    "    for d in range(0,digits+1):\n",
    "        D[d]=[]\n",
    "    for i in range(0,limit):\n",
    "        bini = bin(i)\n",
    "        c = countOnes(int(bini,2))\n",
    "        D[c].append(i)\n",
    "    return D\n",
    "\n",
    "def countOnes(bini):\n",
    "    if bini==0: return 0\n",
    "    c = 0\n",
    "    while bini>0:\n",
    "        if (bini&1==1):\n",
    "            c+=1\n",
    "        bini>>=1\n",
    "    return c        "
   ]
  }
 ],
 "metadata": {
  "kernelspec": {
   "display_name": "Python 3",
   "language": "python",
   "name": "python3"
  },
  "language_info": {
   "codemirror_mode": {
    "name": "ipython",
    "version": 3
   },
   "file_extension": ".py",
   "mimetype": "text/x-python",
   "name": "python",
   "nbconvert_exporter": "python",
   "pygments_lexer": "ipython3",
   "version": "3.7.3"
  }
 },
 "nbformat": 4,
 "nbformat_minor": 2
}
