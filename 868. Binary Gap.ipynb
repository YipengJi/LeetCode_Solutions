{
 "cells": [
  {
   "cell_type": "code",
   "execution_count": 47,
   "metadata": {},
   "outputs": [
    {
     "data": {
      "text/plain": [
       "0"
      ]
     },
     "execution_count": 47,
     "metadata": {},
     "output_type": "execute_result"
    }
   ],
   "source": [
    "import numpy as np \n",
    "\n",
    "def soln(N):\n",
    "    binN = list(bin(N))\n",
    "    first1 = binN.index('1')\n",
    "    print(first1)\n",
    "    \n",
    "    revN = binN[::-1]\n",
    "    last1 = len(binN)-revN.index('1')-1\n",
    "    \n",
    "    print(revN)\n",
    "    print(last1)\n",
    "    print(len(binN))\n",
    "    return last1-first1\n",
    "\n",
    "def soln1(N):\n",
    "    binN = list(bin(N))\n",
    "    #ind1 = np.where(np.array(binN)=='1')[0]\n",
    "    ind1 = list()\n",
    "    for i in range (0,len(binN)):\n",
    "        if binN[i]=='1':\n",
    "            ind1.append(i)\n",
    "    num1 = len(ind1)\n",
    "    if num1 <= 1: return 0\n",
    "    max1=0\n",
    "    for i in range(0,len(ind1)-1):\n",
    "        if (ind1[i+1]-ind1[i])>max1:\n",
    "            max1=ind1[i+1]-ind1[i]\n",
    "        else: continue\n",
    "    return max1\n",
    "    \n",
    "input1=22\n",
    "input2=5\n",
    "input3=8\n",
    "\n",
    "soln1(8)"
   ]
  },
  {
   "cell_type": "code",
   "execution_count": null,
   "metadata": {},
   "outputs": [],
   "source": []
  }
 ],
 "metadata": {
  "kernelspec": {
   "display_name": "Python 3",
   "language": "python",
   "name": "python3"
  },
  "language_info": {
   "codemirror_mode": {
    "name": "ipython",
    "version": 3
   },
   "file_extension": ".py",
   "mimetype": "text/x-python",
   "name": "python",
   "nbconvert_exporter": "python",
   "pygments_lexer": "ipython3",
   "version": "3.6.4"
  }
 },
 "nbformat": 4,
 "nbformat_minor": 2
}
