{
 "cells": [
  {
   "cell_type": "markdown",
   "metadata": {},
   "source": [
    "### First Bad Version"
   ]
  },
  {
   "cell_type": "code",
   "execution_count": 16,
   "metadata": {},
   "outputs": [],
   "source": [
    "def firstBadVersion (n):\n",
    "    prev = 0\n",
    "    med = 1\n",
    "    while med>prev and med <= n:\n",
    "        print(med)\n",
    "        if isBadVersion(med):\n",
    "            if prev>med:\n",
    "                prev = med\n",
    "                med -= 1\n",
    "            else:\n",
    "                med -=1\n",
    "        else:\n",
    "            if prev>med:\n",
    "                return prev\n",
    "            else:\n",
    "                med += 1"
   ]
  },
  {
   "cell_type": "code",
   "execution_count": 157,
   "metadata": {},
   "outputs": [],
   "source": [
    "def isBadVersion (m):\n",
    "    return m>=4"
   ]
  },
  {
   "cell_type": "code",
   "execution_count": 196,
   "metadata": {},
   "outputs": [],
   "source": [
    "def firstBadVersion(n):\n",
    "    low = 1\n",
    "    high = n\n",
    "    prev = 1\n",
    "    mid = int((high-low)/2) if int((high-low)/2)>0 else 1\n",
    "    loc = low+mid\n",
    "    if isBadVersion (1):\n",
    "        return 1\n",
    "    while low<high:\n",
    "#         print(\"=====\")\n",
    "#         print(mid,loc)\n",
    "        if isBadVersion (loc):\n",
    "            if loc == 1:\n",
    "                return loc\n",
    "#             print(\"True\")\n",
    "            high = high-mid\n",
    "            prev = loc\n",
    "            mid = int((high-low)/2) if int((high-low)/2)>0 else 1\n",
    "            loc = high-mid\n",
    "        else:\n",
    "            if prev-1 == loc:\n",
    "#                 print(\"Here\")\n",
    "                return prev\n",
    "#             print(\"False\")\n",
    "            low = low+mid\n",
    "            mid = int((high-low)/2) if int((high-low)/2)>0 else 1\n",
    "            loc = low+mid\n",
    "    return prev"
   ]
  },
  {
   "cell_type": "code",
   "execution_count": 197,
   "metadata": {},
   "outputs": [
    {
     "data": {
      "text/plain": [
       "1"
      ]
     },
     "execution_count": 197,
     "metadata": {},
     "output_type": "execute_result"
    }
   ],
   "source": [
    "def isBadVersion (m):\n",
    "    return m>=1\n",
    "firstBadVersion (3)"
   ]
  },
  {
   "cell_type": "code",
   "execution_count": 200,
   "metadata": {},
   "outputs": [],
   "source": [
    "def isBadVersion (m):\n",
    "    return m>=1702766719"
   ]
  },
  {
   "cell_type": "code",
   "execution_count": 193,
   "metadata": {},
   "outputs": [
    {
     "name": "stdout",
     "output_type": "stream",
     "text": [
      "=====\n",
      "1063376694 1063376695\n",
      "False\n",
      "=====\n",
      "531688347 1595065042\n",
      "False\n",
      "=====\n",
      "265844174 1860909216\n",
      "True\n",
      "=====\n",
      "132922087 1727987129\n",
      "True\n",
      "=====\n",
      "66461043 1661526086\n",
      "False\n",
      "=====\n",
      "33230522 1694756607\n",
      "False\n",
      "=====\n",
      "16615261 1711371868\n",
      "True\n",
      "=====\n",
      "8307630 1703064238\n",
      "True\n",
      "=====\n",
      "4153815 1698910423\n",
      "False\n",
      "=====\n",
      "2076908 1700987330\n",
      "False\n",
      "=====\n",
      "1038454 1702025784\n",
      "False\n",
      "=====\n",
      "519227 1702545011\n",
      "False\n",
      "=====\n",
      "259613 1702804624\n",
      "True\n",
      "=====\n",
      "129807 1702674818\n",
      "False\n",
      "=====\n",
      "64903 1702739721\n",
      "False\n",
      "=====\n",
      "32452 1702772173\n",
      "True\n",
      "=====\n",
      "16226 1702755947\n",
      "False\n",
      "=====\n",
      "8113 1702764060\n",
      "False\n",
      "=====\n",
      "4056 1702768116\n",
      "True\n",
      "=====\n",
      "2028 1702766089\n",
      "False\n",
      "=====\n",
      "1014 1702767102\n",
      "True\n",
      "=====\n",
      "507 1702766596\n",
      "False\n",
      "=====\n",
      "254 1702766849\n",
      "True\n",
      "=====\n",
      "127 1702766722\n",
      "True\n",
      "=====\n",
      "63 1702766659\n",
      "False\n",
      "=====\n",
      "32 1702766690\n",
      "False\n",
      "=====\n",
      "16 1702766706\n",
      "False\n",
      "=====\n",
      "8 1702766714\n",
      "False\n",
      "=====\n",
      "4 1702766718\n",
      "False\n",
      "=====\n",
      "2 1702766720\n",
      "True\n",
      "=====\n",
      "1 1702766719\n",
      "True\n",
      "=====\n",
      "1 1702766718\n",
      "Here\n"
     ]
    },
    {
     "data": {
      "text/plain": [
       "1702766719"
      ]
     },
     "execution_count": 193,
     "metadata": {},
     "output_type": "execute_result"
    }
   ],
   "source": [
    "firstBadVersion (2126753390)"
   ]
  },
  {
   "cell_type": "code",
   "execution_count": 204,
   "metadata": {},
   "outputs": [],
   "source": [
    "def firstBadVersion(n):\n",
    "    left = 1\n",
    "    right = n\n",
    "    while left<right:\n",
    "        mid = left + int((right-left)/2)\n",
    "        if isBadVersion(mid):\n",
    "            right = mid\n",
    "        else:\n",
    "            left = mid+1\n",
    "    return left"
   ]
  },
  {
   "cell_type": "code",
   "execution_count": 205,
   "metadata": {},
   "outputs": [
    {
     "data": {
      "text/plain": [
       "1702766719"
      ]
     },
     "execution_count": 205,
     "metadata": {},
     "output_type": "execute_result"
    }
   ],
   "source": [
    "firstBadVersion (2126753390)"
   ]
  },
  {
   "cell_type": "markdown",
   "metadata": {},
   "source": [
    "### Jewels and Stones"
   ]
  },
  {
   "cell_type": "code",
   "execution_count": 219,
   "metadata": {},
   "outputs": [],
   "source": [
    "def numJewelsIsInStones (J,S):\n",
    "    box = {}\n",
    "    Jtype = len(J)\n",
    "    for j in J:\n",
    "        box[j] = 0\n",
    "    for s in S:\n",
    "        if s in box.keys():\n",
    "            box[s]+=1\n",
    "#     print(box)\n",
    "    return sum(box.values())"
   ]
  },
  {
   "cell_type": "code",
   "execution_count": 220,
   "metadata": {},
   "outputs": [],
   "source": [
    "J = \"aA\"\n",
    "S = \"aAAbbbb\""
   ]
  },
  {
   "cell_type": "code",
   "execution_count": 221,
   "metadata": {},
   "outputs": [
    {
     "name": "stdout",
     "output_type": "stream",
     "text": [
      "{'a': 1, 'A': 2}\n"
     ]
    },
    {
     "data": {
      "text/plain": [
       "3"
      ]
     },
     "execution_count": 221,
     "metadata": {},
     "output_type": "execute_result"
    }
   ],
   "source": [
    "numJewelsIsInStones (J,S)"
   ]
  },
  {
   "cell_type": "code",
   "execution_count": 222,
   "metadata": {},
   "outputs": [],
   "source": [
    "J = \"z\"\n",
    "S = \"ZZ\""
   ]
  },
  {
   "cell_type": "code",
   "execution_count": 223,
   "metadata": {},
   "outputs": [
    {
     "name": "stdout",
     "output_type": "stream",
     "text": [
      "{'z': 0}\n"
     ]
    },
    {
     "data": {
      "text/plain": [
       "0"
      ]
     },
     "execution_count": 223,
     "metadata": {},
     "output_type": "execute_result"
    }
   ],
   "source": [
    "numJewelsIsInStones (J,S)"
   ]
  },
  {
   "cell_type": "markdown",
   "metadata": {},
   "source": [
    "### Ransom Note"
   ]
  },
  {
   "cell_type": "code",
   "execution_count": 225,
   "metadata": {},
   "outputs": [],
   "source": [
    "def canConstruct (ransomNote, magazine):\n",
    "    dic = {}\n",
    "    for m in magazine:\n",
    "        if m in dic.keys():\n",
    "            dic[m] +=1\n",
    "        else: \n",
    "            dic[m] = 1\n",
    "    for n in ransomNote:\n",
    "        if n not in dic.keys():\n",
    "            return False\n",
    "        else:\n",
    "            dic[n] -=1\n",
    "    for v in dic.values():\n",
    "        if v < 0:\n",
    "            return False\n",
    "    return True"
   ]
  },
  {
   "cell_type": "code",
   "execution_count": 226,
   "metadata": {},
   "outputs": [
    {
     "data": {
      "text/plain": [
       "False"
      ]
     },
     "execution_count": 226,
     "metadata": {},
     "output_type": "execute_result"
    }
   ],
   "source": [
    "canConstruct(\"a\", \"b\")"
   ]
  },
  {
   "cell_type": "code",
   "execution_count": 227,
   "metadata": {},
   "outputs": [
    {
     "data": {
      "text/plain": [
       "False"
      ]
     },
     "execution_count": 227,
     "metadata": {},
     "output_type": "execute_result"
    }
   ],
   "source": [
    "canConstruct(\"aa\", \"ab\") "
   ]
  },
  {
   "cell_type": "code",
   "execution_count": 228,
   "metadata": {},
   "outputs": [
    {
     "data": {
      "text/plain": [
       "True"
      ]
     },
     "execution_count": 228,
     "metadata": {},
     "output_type": "execute_result"
    }
   ],
   "source": [
    "canConstruct(\"aa\", \"aab\")"
   ]
  },
  {
   "cell_type": "markdown",
   "metadata": {},
   "source": [
    "### Number Complement"
   ]
  },
  {
   "cell_type": "code",
   "execution_count": 257,
   "metadata": {},
   "outputs": [],
   "source": [
    "def findComplement (num):\n",
    "    binary = bin(num)[2:]\n",
    "    flip = ''\n",
    "    for i in binary:\n",
    "        if i=='0':\n",
    "            flip += '1'\n",
    "        else: flip += '0'\n",
    "    return int(flip,2)"
   ]
  },
  {
   "cell_type": "code",
   "execution_count": 258,
   "metadata": {},
   "outputs": [
    {
     "data": {
      "text/plain": [
       "2"
      ]
     },
     "execution_count": 258,
     "metadata": {},
     "output_type": "execute_result"
    }
   ],
   "source": [
    "findComplement (5)"
   ]
  },
  {
   "cell_type": "code",
   "execution_count": 259,
   "metadata": {},
   "outputs": [
    {
     "data": {
      "text/plain": [
       "0"
      ]
     },
     "execution_count": 259,
     "metadata": {},
     "output_type": "execute_result"
    }
   ],
   "source": [
    "findComplement (1)"
   ]
  },
  {
   "cell_type": "markdown",
   "metadata": {},
   "source": [
    "### First Unique Character in a String"
   ]
  },
  {
   "cell_type": "code",
   "execution_count": 262,
   "metadata": {},
   "outputs": [],
   "source": [
    "def firstUniqChar(s):\n",
    "    ht = {}\n",
    "    for c in s:\n",
    "        ht[c] = ht[c]+1 if c in ht.keys() else 1\n",
    "    for ind in range(0,len(s)):\n",
    "        if ht[s[ind]]==1 : return ind\n",
    "    return -1"
   ]
  },
  {
   "cell_type": "code",
   "execution_count": 263,
   "metadata": {},
   "outputs": [
    {
     "data": {
      "text/plain": [
       "0"
      ]
     },
     "execution_count": 263,
     "metadata": {},
     "output_type": "execute_result"
    }
   ],
   "source": [
    "s = \"leetcode\"\n",
    "firstUniqChar(s)"
   ]
  },
  {
   "cell_type": "code",
   "execution_count": 264,
   "metadata": {},
   "outputs": [
    {
     "data": {
      "text/plain": [
       "2"
      ]
     },
     "execution_count": 264,
     "metadata": {},
     "output_type": "execute_result"
    }
   ],
   "source": [
    "s = \"loveleetcode\"\n",
    "firstUniqChar(s)"
   ]
  },
  {
   "cell_type": "markdown",
   "metadata": {},
   "source": [
    "### Majority Element"
   ]
  },
  {
   "cell_type": "code",
   "execution_count": 302,
   "metadata": {},
   "outputs": [],
   "source": [
    "def majorityElement (nums):\n",
    "    cnt = {}\n",
    "    for num in nums:\n",
    "        cnt[num] = cnt[num]+1 if num in cnt.keys() else 1\n",
    "    sort = {k:v for k,v in sorted(cnt.items(), key=lambda item:item[1])}\n",
    "#     print(sort)\n",
    "    return list(sort.keys())[-1]"
   ]
  },
  {
   "cell_type": "code",
   "execution_count": 315,
   "metadata": {},
   "outputs": [],
   "source": [
    "def majorityElement(nums):\n",
    "    nums.sort()\n",
    "    major = int(len(nums)/2)\n",
    "    prev = nums[0]\n",
    "    count = 1\n",
    "    for i in nums[1:]:\n",
    "        if i==prev:\n",
    "            count+=1\n",
    "            if count>major: return i\n",
    "        else:\n",
    "            count=1\n",
    "        prev=i\n",
    "    return prev\n",
    "    "
   ]
  },
  {
   "cell_type": "code",
   "execution_count": 316,
   "metadata": {},
   "outputs": [
    {
     "data": {
      "text/plain": [
       "3"
      ]
     },
     "execution_count": 316,
     "metadata": {},
     "output_type": "execute_result"
    }
   ],
   "source": [
    "majorityElement ([3,2,3])"
   ]
  },
  {
   "cell_type": "code",
   "execution_count": 317,
   "metadata": {},
   "outputs": [
    {
     "data": {
      "text/plain": [
       "2"
      ]
     },
     "execution_count": 317,
     "metadata": {},
     "output_type": "execute_result"
    }
   ],
   "source": [
    "majorityElement([2,2,1,1,1,2,2])"
   ]
  },
  {
   "cell_type": "code",
   "execution_count": 318,
   "metadata": {},
   "outputs": [
    {
     "data": {
      "text/plain": [
       "5"
      ]
     },
     "execution_count": 318,
     "metadata": {},
     "output_type": "execute_result"
    }
   ],
   "source": [
    "majorityElement([6,5,5])"
   ]
  },
  {
   "cell_type": "code",
   "execution_count": 319,
   "metadata": {},
   "outputs": [
    {
     "data": {
      "text/plain": [
       "1"
      ]
     },
     "execution_count": 319,
     "metadata": {},
     "output_type": "execute_result"
    }
   ],
   "source": [
    "majorityElement([1])"
   ]
  },
  {
   "cell_type": "markdown",
   "metadata": {},
   "source": [
    "### Cousins in Binary Tree"
   ]
  },
  {
   "cell_type": "code",
   "execution_count": 320,
   "metadata": {},
   "outputs": [],
   "source": [
    "class TreeNode:\n",
    "    def __init__(self, val=0, left=None, right=None):\n",
    "        self.val = val\n",
    "        self.left = left\n",
    "        self.right = right"
   ]
  },
  {
   "cell_type": "code",
   "execution_count": 374,
   "metadata": {},
   "outputs": [],
   "source": [
    "def findDepthnParent(root,n,depth,parent):\n",
    "    if root==None: return None, None\n",
    "    print(root.val,depth,parent)\n",
    "    if root.val==n:\n",
    "        print(depth,parent)\n",
    "        return depth,parent\n",
    "    dep, par = findDepthnParent(root.left,n,depth+1,root.val)\n",
    "    if dep==None:\n",
    "        return findDepthnParent(root.right,n,depth+1,root.val)\n",
    "    else:\n",
    "        return dep,par\n",
    "        "
   ]
  },
  {
   "cell_type": "code",
   "execution_count": 388,
   "metadata": {},
   "outputs": [],
   "source": [
    "def isCousins(root,x,y):\n",
    "    def findDepthnParent(rt,n,depth,parent):\n",
    "        if rt==None: return None, None\n",
    "#         print(root.val,depth,parent)\n",
    "        if rt.val==n:\n",
    "#             print(depth,parent)\n",
    "            return depth,parent\n",
    "        \n",
    "        dep,par = findDepthnParent(rt.left,n,depth+1,rt.val)\n",
    "        if dep == None:\n",
    "            return findDepthnParent(rt.right,n,depth+1,rt.val)\n",
    "        else:\n",
    "            return dep, par\n",
    "\n",
    "    x_depth,x_parent = findDepthnParent(root,x,0,0)\n",
    "    y_depth,y_parent = findDepthnParent(root,y,0,0)\n",
    "    \n",
    "    return x_depth==y_depth and x_parent!=y_parent"
   ]
  },
  {
   "cell_type": "code",
   "execution_count": 389,
   "metadata": {},
   "outputs": [],
   "source": [
    "root = TreeNode(1,TreeNode(2,TreeNode(4),None),TreeNode(3))"
   ]
  },
  {
   "cell_type": "code",
   "execution_count": 390,
   "metadata": {},
   "outputs": [
    {
     "name": "stdout",
     "output_type": "stream",
     "text": [
      "1 0 0\n",
      "2 1 1\n",
      "4 2 2\n",
      "2 2\n"
     ]
    },
    {
     "data": {
      "text/plain": [
       "(2, 2)"
      ]
     },
     "execution_count": 390,
     "metadata": {},
     "output_type": "execute_result"
    }
   ],
   "source": [
    "findDepthnParent(root,4,0,0)"
   ]
  },
  {
   "cell_type": "code",
   "execution_count": 391,
   "metadata": {},
   "outputs": [
    {
     "name": "stdout",
     "output_type": "stream",
     "text": [
      "2 2\n",
      "1 1\n"
     ]
    },
    {
     "data": {
      "text/plain": [
       "False"
      ]
     },
     "execution_count": 391,
     "metadata": {},
     "output_type": "execute_result"
    }
   ],
   "source": [
    "isCousins(root,4,3)"
   ]
  },
  {
   "cell_type": "code",
   "execution_count": 392,
   "metadata": {},
   "outputs": [],
   "source": [
    "root = TreeNode(1,TreeNode(2,None,TreeNode(4)),TreeNode(3))"
   ]
  },
  {
   "cell_type": "code",
   "execution_count": 393,
   "metadata": {},
   "outputs": [
    {
     "name": "stdout",
     "output_type": "stream",
     "text": [
      "1 0 0\n",
      "2 1 1\n",
      "4 2 2\n",
      "2 2\n"
     ]
    },
    {
     "data": {
      "text/plain": [
       "(2, 2)"
      ]
     },
     "execution_count": 393,
     "metadata": {},
     "output_type": "execute_result"
    }
   ],
   "source": [
    "findDepthnParent(root,4,0,0)"
   ]
  },
  {
   "cell_type": "code",
   "execution_count": 396,
   "metadata": {},
   "outputs": [
    {
     "name": "stdout",
     "output_type": "stream",
     "text": [
      "2 3\n",
      "2 2\n"
     ]
    },
    {
     "data": {
      "text/plain": [
       "True"
      ]
     },
     "execution_count": 396,
     "metadata": {},
     "output_type": "execute_result"
    }
   ],
   "source": [
    "isCousins(root,5,4)"
   ]
  },
  {
   "cell_type": "code",
   "execution_count": 394,
   "metadata": {},
   "outputs": [],
   "source": [
    "root = TreeNode(1,TreeNode(2,None,TreeNode(4)),TreeNode(3,None,TreeNode(5)))"
   ]
  },
  {
   "cell_type": "code",
   "execution_count": 395,
   "metadata": {},
   "outputs": [
    {
     "name": "stdout",
     "output_type": "stream",
     "text": [
      "1 0 0\n",
      "2 1 1\n",
      "4 2 2\n",
      "3 1 1\n",
      "5 2 3\n",
      "2 3\n"
     ]
    },
    {
     "data": {
      "text/plain": [
       "(2, 3)"
      ]
     },
     "execution_count": 395,
     "metadata": {},
     "output_type": "execute_result"
    }
   ],
   "source": [
    "findDepthnParent(root,5,0,0)"
   ]
  },
  {
   "cell_type": "code",
   "execution_count": 397,
   "metadata": {},
   "outputs": [
    {
     "name": "stdout",
     "output_type": "stream",
     "text": [
      "1 1\n",
      "1 1\n"
     ]
    },
    {
     "data": {
      "text/plain": [
       "False"
      ]
     },
     "execution_count": 397,
     "metadata": {},
     "output_type": "execute_result"
    }
   ],
   "source": [
    "isCousins(root,2,3)"
   ]
  },
  {
   "cell_type": "markdown",
   "metadata": {},
   "source": [
    "### Check If It Is a Straight Line"
   ]
  },
  {
   "cell_type": "code",
   "execution_count": 404,
   "metadata": {},
   "outputs": [],
   "source": [
    "def checkStraightLine (coordinates):\n",
    "    first = coordinates[0]\n",
    "    second = coordinates[1]\n",
    "    \n",
    "    if first[0]==second[0]:\n",
    "        for c in coordinates[2:]:\n",
    "            if c[0] != first[0]: return False\n",
    "        return True\n",
    "    \n",
    "    a = float((first[1]-second[1])/(first[0]-second[0]))\n",
    "    b = first[1]-a*first[0]\n",
    "    print(a,b)\n",
    "    \n",
    "    for c in coordinates[2:]:\n",
    "        if a*c[0]+b != c[1]: return False\n",
    "    return True\n",
    "    "
   ]
  },
  {
   "cell_type": "code",
   "execution_count": 405,
   "metadata": {},
   "outputs": [
    {
     "name": "stdout",
     "output_type": "stream",
     "text": [
      "1.0 1.0\n"
     ]
    },
    {
     "data": {
      "text/plain": [
       "True"
      ]
     },
     "execution_count": 405,
     "metadata": {},
     "output_type": "execute_result"
    }
   ],
   "source": [
    "coordinates = [[1,2],[2,3],[3,4],[4,5],[5,6],[6,7]]\n",
    "checkStraightLine (coordinates)"
   ]
  },
  {
   "cell_type": "code",
   "execution_count": 406,
   "metadata": {},
   "outputs": [
    {
     "name": "stdout",
     "output_type": "stream",
     "text": [
      "1.0 0.0\n"
     ]
    },
    {
     "data": {
      "text/plain": [
       "False"
      ]
     },
     "execution_count": 406,
     "metadata": {},
     "output_type": "execute_result"
    }
   ],
   "source": [
    "coordinates = [[1,1],[2,2],[3,4],[4,5],[5,6],[7,7]]\n",
    "checkStraightLine (coordinates)"
   ]
  },
  {
   "cell_type": "code",
   "execution_count": 407,
   "metadata": {},
   "outputs": [
    {
     "data": {
      "text/plain": [
       "False"
      ]
     },
     "execution_count": 407,
     "metadata": {},
     "output_type": "execute_result"
    }
   ],
   "source": [
    "coordinates = [[-7,-3],[-7,-1],[-2,-2],[0,-8],[2,-2],[5,-6],[5,-5],[1,7]]\n",
    "checkStraightLine (coordinates)"
   ]
  },
  {
   "cell_type": "code",
   "execution_count": null,
   "metadata": {},
   "outputs": [],
   "source": []
  }
 ],
 "metadata": {
  "kernelspec": {
   "display_name": "Python 3",
   "language": "python",
   "name": "python3"
  },
  "language_info": {
   "codemirror_mode": {
    "name": "ipython",
    "version": 3
   },
   "file_extension": ".py",
   "mimetype": "text/x-python",
   "name": "python",
   "nbconvert_exporter": "python",
   "pygments_lexer": "ipython3",
   "version": "3.6.4"
  }
 },
 "nbformat": 4,
 "nbformat_minor": 2
}
