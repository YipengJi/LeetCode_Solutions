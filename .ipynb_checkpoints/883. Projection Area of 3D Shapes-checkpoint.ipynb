{
 "cells": [
  {
   "cell_type": "code",
   "execution_count": 15,
   "metadata": {},
   "outputs": [
    {
     "data": {
      "text/plain": [
       "8"
      ]
     },
     "execution_count": 15,
     "metadata": {},
     "output_type": "execute_result"
    }
   ],
   "source": [
    "def projectionArea(grid):\n",
    "    top = 0\n",
    "    xz = 0\n",
    "    yz = 0\n",
    "    for i in grid:\n",
    "        xz += max(i)\n",
    "    \n",
    "    for j in range(len(grid[0])):\n",
    "        max_col=0\n",
    "        for i in range(len(grid)):\n",
    "            max_col= grid[i][j] if grid[i][j]>max_col else max_col\n",
    "            top = top+1 if grid[i][j] != 0 else top\n",
    "        yz+=max_col\n",
    "        \n",
    "    return top+xz+yz\n",
    "    \n",
    "input1 = [[2]]\n",
    "input2 = [[1,2],[3,4]]\n",
    "\n",
    "projectionArea([[1,0],[0,2]])"
   ]
  },
  {
   "cell_type": "code",
   "execution_count": 19,
   "metadata": {},
   "outputs": [
    {
     "name": "stdout",
     "output_type": "stream",
     "text": [
      "[0, 0, 0, 1, 1, 2, 2, 3, 3, 4]\n",
      "[0, 0, 0, 1, 1, 2, 1, 3, 3, 4]\n"
     ]
    },
    {
     "data": {
      "text/plain": [
       "[0, 0, 0, 1, 1, 2, 1, 3, 3, 4]"
      ]
     },
     "execution_count": 19,
     "metadata": {},
     "output_type": "execute_result"
    }
   ],
   "source": [
    "def removeDuplicates(nums):\n",
    "    num1=nums[0]\n",
    "    num2=nums[1]\n",
    "    count=0\n",
    "    for i in range(0,len(nums)-2,2):\n",
    "        if num1==num2:\n",
    "            temp=num2\n",
    "            num2=nums[i+2]\n",
    "            nums[i+2]=temp\n",
    "            print(nums)\n",
    "        else: \n",
    "            count+=1\n",
    "            num1=num2\n",
    "            num2=nums[i+2]\n",
    "    return nums\n",
    "            \n",
    "removeDuplicates([0,0,1,1,1,2,2,3,3,4])         "
   ]
  },
  {
   "cell_type": "code",
   "execution_count": null,
   "metadata": {},
   "outputs": [],
   "source": []
  }
 ],
 "metadata": {
  "kernelspec": {
   "display_name": "Python 3",
   "language": "python",
   "name": "python3"
  },
  "language_info": {
   "codemirror_mode": {
    "name": "ipython",
    "version": 3
   },
   "file_extension": ".py",
   "mimetype": "text/x-python",
   "name": "python",
   "nbconvert_exporter": "python",
   "pygments_lexer": "ipython3",
   "version": "3.6.4"
  }
 },
 "nbformat": 4,
 "nbformat_minor": 2
}
