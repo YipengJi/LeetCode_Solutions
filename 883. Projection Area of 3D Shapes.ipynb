{
 "cells": [
  {
   "cell_type": "code",
   "execution_count": 15,
   "metadata": {},
   "outputs": [
    {
     "data": {
      "text/plain": [
       "8"
      ]
     },
     "execution_count": 15,
     "metadata": {},
     "output_type": "execute_result"
    }
   ],
   "source": [
    "def projectionArea(grid):\n",
    "    top = 0\n",
    "    xz = 0\n",
    "    yz = 0\n",
    "    for i in grid:\n",
    "        xz += max(i)\n",
    "    \n",
    "    for j in range(len(grid[0])):\n",
    "        max_col=0\n",
    "        for i in range(len(grid)):\n",
    "            max_col= grid[i][j] if grid[i][j]>max_col else max_col\n",
    "            top = top+1 if grid[i][j] != 0 else top\n",
    "        yz+=max_col\n",
    "        \n",
    "    return top+xz+yz\n",
    "    \n",
    "input1 = [[2]]\n",
    "input2 = [[1,2],[3,4]]\n",
    "\n",
    "projectionArea([[1,0],[0,2]])"
   ]
  },
  {
   "cell_type": "code",
   "execution_count": 24,
   "metadata": {},
   "outputs": [
    {
     "data": {
      "text/plain": [
       "5"
      ]
     },
     "execution_count": 24,
     "metadata": {},
     "output_type": "execute_result"
    }
   ],
   "source": [
    "def removeDuplicates(nums):\n",
    "    i=0\n",
    "    for j in range(1,len(nums)):\n",
    "        if (nums[i]!=nums[j]):\n",
    "            i+=1\n",
    "            nums[i]=nums[j]\n",
    "    return i+1\n",
    "            \n",
    "removeDuplicates([0,0,1,1,1,2,2,3,3,4])         "
   ]
  },
  {
   "cell_type": "code",
   "execution_count": null,
   "metadata": {},
   "outputs": [],
   "source": []
  }
 ],
 "metadata": {
  "kernelspec": {
   "display_name": "Python 3",
   "language": "python",
   "name": "python3"
  },
  "language_info": {
   "codemirror_mode": {
    "name": "ipython",
    "version": 3
   },
   "file_extension": ".py",
   "mimetype": "text/x-python",
   "name": "python",
   "nbconvert_exporter": "python",
   "pygments_lexer": "ipython3",
   "version": "3.6.4"
  }
 },
 "nbformat": 4,
 "nbformat_minor": 2
}
