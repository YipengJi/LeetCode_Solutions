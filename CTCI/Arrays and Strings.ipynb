{
 "cells": [
  {
   "cell_type": "code",
   "execution_count": 31,
   "metadata": {},
   "outputs": [
    {
     "data": {
      "text/plain": [
       "False"
      ]
     },
     "execution_count": 31,
     "metadata": {},
     "output_type": "execute_result"
    }
   ],
   "source": [
    "'''1.1 Is Unique'''\n",
    "\n",
    "def isUnique_hash (str):\n",
    "    hash={}\n",
    "    for s in str:\n",
    "        if s in hash: return False\n",
    "        else:\n",
    "            hash[s]=1\n",
    "    return True\n",
    "\n",
    "def isUnique_loop (str):\n",
    "    for i in range(len(str)):\n",
    "        for j in range(i+1,len(str)):\n",
    "            if str[i]==str[j]:\n",
    "                return False\n",
    "    return True\n",
    "\n",
    "from collections import Counter\n",
    "\n",
    "def isUnique_counter (str):\n",
    "    cnt = Counter(str)\n",
    "    return cnt.most_common(1)[0][1]==1\n",
    "\n",
    "\n",
    "\n",
    "'''check ASCII string (128) or Unicode string\n",
    "length > 128 -> false\n",
    "has character dictionary -> O(n), O(1)\n",
    "??? bit vector? \n",
    "O(nlogn) time? -> sortO(nlogn) and check neighbours linearly, maybe extra space for sort'''\n",
    "\n",
    "\n",
    "#isUnique(\"aabbcc\")\n",
    "isUnique(\"abc\")\n",
    "# print(list(\"abc\"))\n",
    "# print(set(\"abc\"))"
   ]
  },
  {
   "cell_type": "code",
   "execution_count": null,
   "metadata": {},
   "outputs": [],
   "source": [
    "''' 1.2 check permutation'''\n",
    "\n",
    "def isPerm (sa,sb):\n",
    "    \n",
    "    \n"
   ]
  }
 ],
 "metadata": {
  "kernelspec": {
   "display_name": "Python 3",
   "language": "python",
   "name": "python3"
  },
  "language_info": {
   "codemirror_mode": {
    "name": "ipython",
    "version": 3
   },
   "file_extension": ".py",
   "mimetype": "text/x-python",
   "name": "python",
   "nbconvert_exporter": "python",
   "pygments_lexer": "ipython3",
   "version": "3.6.4"
  }
 },
 "nbformat": 4,
 "nbformat_minor": 2
}
