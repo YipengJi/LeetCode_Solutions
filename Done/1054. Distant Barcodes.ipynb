{
 "cells": [
  {
   "cell_type": "code",
   "execution_count": 61,
   "metadata": {},
   "outputs": [
    {
     "name": "stdout",
     "output_type": "stream",
     "text": [
      "[(3, 2), (2, 2), (1, 4)]\n",
      "[3, 3, 2, 2, 1, 1, 1, 1]\n"
     ]
    },
    {
     "data": {
      "text/plain": [
       "[1, 2, 1, 2, 1, 3, 1, 3]"
      ]
     },
     "execution_count": 61,
     "metadata": {},
     "output_type": "execute_result"
    }
   ],
   "source": [
    "import numpy as np\n",
    "import collections\n",
    "input1 = [1,1,1,2,2,2]\n",
    "input2 = [1,1,1,1,2,2,3,3]\n",
    "\n",
    "#print(input1.index(2))\n",
    "#print(np.where(np.array(input1)==1)[0])\n",
    "\n",
    "def soln(barcodes):\n",
    "    total_len = len(barcodes)\n",
    "    codeset = set(barcodes)\n",
    "    set_len = len(codeset)\n",
    "    \n",
    "    return new_barcodes\n",
    "\n",
    "def soln1(barcodes):\n",
    "    barcodes.sort()\n",
    "    length = len(barcodes)\n",
    "    for i in range (0, length-2):\n",
    "        if barcodes[i]==barcodes[i+1]:\n",
    "            temp=barcodes[i+1]\n",
    "            barcodes[i+1]=barcodes[length-i-1]\n",
    "            barcodes[length-i-1]=temp\n",
    "    return barcodes\n",
    "\n",
    "\n",
    "def soln2(barcodes):\n",
    "    is_finished = False\n",
    "    while not is_finished:\n",
    "        np.random.shuffle(barcodes)\n",
    "        for i in range (0, len(barcodes)-1):\n",
    "            if barcodes[i]==barcodes[i+1]:\n",
    "                break\n",
    "            if i==len(barcodes)-1:\n",
    "                return barcodes\n",
    "        \n",
    "#soln1(input1)\n",
    "\n",
    "def soln_discus(barcodes):\n",
    "    cnt = collections.Counter(barcodes).most_common()[::-1]\n",
    "    ref = [val for val,t in cnt for _ in range(t)]\n",
    "    #print(cnt)\n",
    "    #print(ref)\n",
    "    for i in range (0, len(barcodes), 2):\n",
    "        barcodes[i]=ref.pop()\n",
    "    for i in range (1, len(barcodes), 2):\n",
    "        barcodes[i]=ref.pop()\n",
    "    return barcodes\n",
    "\n",
    "soln_discus(input2)\n"
   ]
  },
  {
   "cell_type": "markdown",
   "metadata": {},
   "source": []
  }
 ],
 "metadata": {
  "kernelspec": {
   "display_name": "Python 3",
   "language": "python",
   "name": "python3"
  },
  "language_info": {
   "codemirror_mode": {
    "name": "ipython",
    "version": 3
   },
   "file_extension": ".py",
   "mimetype": "text/x-python",
   "name": "python",
   "nbconvert_exporter": "python",
   "pygments_lexer": "ipython3",
   "version": "3.6.4"
  }
 },
 "nbformat": 4,
 "nbformat_minor": 2
}
