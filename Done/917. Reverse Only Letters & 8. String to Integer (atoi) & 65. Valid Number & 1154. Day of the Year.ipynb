{
 "cells": [
  {
   "cell_type": "code",
   "execution_count": 1,
   "metadata": {},
   "outputs": [],
   "source": [
    "class Solution(object):\n",
    "    def reverseOnlyLetters(self, S):\n",
    "        \"\"\"\n",
    "        :type S: str\n",
    "        :rtype: str\n",
    "        \"\"\"\n",
    "        S=list(S)\n",
    "        i=0\n",
    "        j=len(S)-1\n",
    "        while i<j:\n",
    "            if S[i].isalpha() and S[j].isalpha():\n",
    "                S[i],S[j] = S[j],S[i]\n",
    "                i+=1\n",
    "                j-=1\n",
    "            elif S[i].isalpha()==False:\n",
    "                i+=1\n",
    "            else:\n",
    "                j-=1\n",
    "        return ''.join(S) "
   ]
  },
  {
   "cell_type": "code",
   "execution_count": 35,
   "metadata": {},
   "outputs": [],
   "source": [
    "def myAtoi(str):\n",
    "    \"\"\"\n",
    "    :type str: str\n",
    "    :rtype: int\n",
    "    \"\"\"\n",
    "    if str==\"\": return 0\n",
    "    s = list(str)\n",
    "    ans = []\n",
    "    i = 0\n",
    "    while i<len(s) and s[i]==\" \":\n",
    "        s.remove(s[i])\n",
    "    if s==[]: return 0\n",
    "    i = 0\n",
    "    if s[i]==\"-\" or s[i]==\"+\":\n",
    "        ans.append(s[i])\n",
    "        i+=1\n",
    "    if i==len(s): return 0\n",
    "    if s[i].isalpha() or s[i]==\"-\" or s[i]==\"+\" or s[i]==\" \": return 0\n",
    "    while i<len(s) and s[i].isdigit(): \n",
    "        ans.append(s[i])\n",
    "        i+=1\n",
    "    if ans==[]: return 0\n",
    "    answer = int(''.join(ans))\n",
    "    if answer<(-2**31):\n",
    "        return -2**31\n",
    "    elif answer>(2**31-1):\n",
    "        return 2**31-1\n",
    "    else:\n",
    "        return answer"
   ]
  },
  {
   "cell_type": "code",
   "execution_count": 36,
   "metadata": {},
   "outputs": [
    {
     "name": "stdout",
     "output_type": "stream",
     "text": [
      "['w', 'o', 'r', 'd']\n"
     ]
    },
    {
     "data": {
      "text/plain": [
       "0"
      ]
     },
     "execution_count": 36,
     "metadata": {},
     "output_type": "execute_result"
    }
   ],
   "source": [
    "myAtoi(\"word\")"
   ]
  },
  {
   "cell_type": "code",
   "execution_count": 45,
   "metadata": {},
   "outputs": [
    {
     "data": {
      "text/plain": [
       "False"
      ]
     },
     "execution_count": 45,
     "metadata": {},
     "output_type": "execute_result"
    }
   ],
   "source": [
    "\"-3\".isdigit()"
   ]
  },
  {
   "cell_type": "code",
   "execution_count": 81,
   "metadata": {},
   "outputs": [],
   "source": [
    "def isNumber(s):\n",
    "    \"\"\"\n",
    "    :type s: str\n",
    "    :rtype: bool\n",
    "    \"\"\"\n",
    "    s = s.strip()\n",
    "    if s.isdigit(): return True\n",
    "    else:\n",
    "        if s==\"\": return False\n",
    "        try:\n",
    "            e = s.index(\"e\")\n",
    "            if isFloat(s[e+1:]): return False\n",
    "            if (s[0:e].isdigit() or isFloat(s[0:e]) or isSigned(s[0:e]) or isSignedFloat(s[0:e])) and (s[e+1:].isdigit() or isSigned(s[e+1:])):\n",
    "                return True\n",
    "        except:\n",
    "            if isFloat(s) or isSigned(s) or isSignedFloat(s):\n",
    "                return True\n",
    "    return False\n",
    "\n",
    "def isFloat(s):\n",
    "    try:\n",
    "        dig = s.index(\".\")\n",
    "        if (s[0:dig].isdigit() and s[dig+1:].isdigit()) or (dig==0 and s[dig+1:].isdigit()) or (dig==len(s)-1 and s[0:dig].isdigit()):\n",
    "            return True\n",
    "        else: return False\n",
    "    except:\n",
    "        return False\n",
    "\n",
    "def isSigned(s):\n",
    "    sign = s[0]\n",
    "    return (sign==\"-\" or sign ==\"+\") and s[1:].isdigit()\n",
    "\n",
    "def isSignedFloat(s):\n",
    "    sign = s[0]\n",
    "    return (sign==\"-\" or sign ==\"+\") and (s[1:].isdigit() or isFloat(s[1:]))\n"
   ]
  },
  {
   "cell_type": "code",
   "execution_count": 82,
   "metadata": {},
   "outputs": [
    {
     "data": {
      "text/plain": [
       "True"
      ]
     },
     "execution_count": 82,
     "metadata": {},
     "output_type": "execute_result"
    }
   ],
   "source": [
    "isNumber(\"-.3e6\")"
   ]
  },
  {
   "cell_type": "code",
   "execution_count": 98,
   "metadata": {},
   "outputs": [],
   "source": [
    "def dayOfYear(date):\n",
    "    \"\"\"\n",
    "    :type date: str\n",
    "    :rtype: int\n",
    "    \"\"\"\n",
    "    D=[31,28,31,30,31,30,31,31,30,31,30,31]\n",
    "    year = int(date[0:4])\n",
    "    month = int(date[5:7])\n",
    "    day = int(date[8:])\n",
    "    ans=0\n",
    "    \n",
    "    if (year%4==0 and year%100!=0) or (year%100==0 and year%400==0):\n",
    "        D[1]+=1\n",
    "    for i in range(0,month-1):\n",
    "        ans+=D[i]\n",
    "    return ans+day"
   ]
  },
  {
   "cell_type": "code",
   "execution_count": 99,
   "metadata": {},
   "outputs": [
    {
     "data": {
      "text/plain": [
       "84"
      ]
     },
     "execution_count": 99,
     "metadata": {},
     "output_type": "execute_result"
    }
   ],
   "source": [
    "dayOfYear(\"1900-03-25\")"
   ]
  },
  {
   "cell_type": "code",
   "execution_count": null,
   "metadata": {},
   "outputs": [],
   "source": []
  }
 ],
 "metadata": {
  "kernelspec": {
   "display_name": "Python 3",
   "language": "python",
   "name": "python3"
  },
  "language_info": {
   "codemirror_mode": {
    "name": "ipython",
    "version": 3
   },
   "file_extension": ".py",
   "mimetype": "text/x-python",
   "name": "python",
   "nbconvert_exporter": "python",
   "pygments_lexer": "ipython3",
   "version": "3.6.4"
  }
 },
 "nbformat": 4,
 "nbformat_minor": 2
}
